{
 "cells": [
  {
   "cell_type": "code",
   "execution_count": null,
   "id": "299f523b",
   "metadata": {},
   "outputs": [],
   "source": [
    "data= pd.read_excel('Online_Retail.xlsx')"
   ]
  },
  {
   "cell_type": "code",
   "execution_count": null,
   "id": "b07b6093",
   "metadata": {},
   "outputs": [],
   "source": [
    "data.head(15)"
   ]
  },
  {
   "cell_type": "code",
   "execution_count": null,
   "id": "8ea441a9",
   "metadata": {},
   "outputs": [],
   "source": [
    "data.dtypes"
   ]
  },
  {
   "cell_type": "code",
   "execution_count": null,
   "id": "0967759a",
   "metadata": {},
   "outputs": [],
   "source": [
    "(data['Description'] == \"POPPY'S PLAYHOUSE BEDROOM\").sum()"
   ]
  },
  {
   "cell_type": "code",
   "execution_count": null,
   "id": "84720d86",
   "metadata": {},
   "outputs": [],
   "source": [
    "\n",
    "data['Description'] = data['Description'].str.strip()\n",
    " \n",
    "data.dropna(axis = 0, subset =['InvoiceNo'], inplace = True)\n",
    "data['InvoiceNo'] = data['InvoiceNo'].astype('str')\n",
    " \n",
    "\n",
    "data = data[~data['InvoiceNo'].str.contains('C')]"
   ]
  },
  {
   "cell_type": "code",
   "execution_count": null,
   "id": "94028e89",
   "metadata": {},
   "outputs": [],
   "source": [
    "# Transactions done in France\n",
    "basket_France = (data[data['Country'] ==\"France\"]\n",
    "\t\t.groupby(['InvoiceNo', 'Description'])['Quantity']\n",
    "\t\t.sum().unstack().reset_index().fillna(0)\n",
    "\t\t.set_index('InvoiceNo'))\n",
    "\n",
    "# Transactions done in the United Kingdom\n",
    "basket_UK = (data[data['Country'] ==\"United Kingdom\"]\n",
    "\t\t.groupby(['InvoiceNo', 'Description'])['Quantity']\n",
    "\t\t.sum().unstack().reset_index().fillna(0)\n",
    "\t\t.set_index('InvoiceNo'))\n",
    "\n",
    "# Transactions done in Portugal\n",
    "basket_Por = (data[data['Country'] ==\"Portugal\"]\n",
    "\t\t.groupby(['InvoiceNo', 'Description'])['Quantity']\n",
    "\t\t.sum().unstack().reset_index().fillna(0)\n",
    "\t\t.set_index('InvoiceNo'))\n",
    "\n",
    "basket_Sweden = (data[data['Country'] ==\"Sweden\"]\n",
    "\t\t.groupby(['InvoiceNo', 'Description'])['Quantity']\n",
    "\t\t.sum().unstack().reset_index().fillna(0)\n",
    "\t\t.set_index('InvoiceNo'))\n"
   ]
  },
  {
   "cell_type": "code",
   "execution_count": null,
   "id": "aee5521c",
   "metadata": {},
   "outputs": [],
   "source": [
    "basket_France"
   ]
  },
  {
   "cell_type": "code",
   "execution_count": null,
   "id": "eee0941f",
   "metadata": {},
   "outputs": [],
   "source": [
    "basket_encoded = basket_France.applymap(hot_encode)\n",
    "basket_France = basket_encoded"
   ]
  },
  {
   "cell_type": "code",
   "execution_count": null,
   "id": "9db6bd43",
   "metadata": {},
   "outputs": [],
   "source": [
    "basket_France"
   ]
  },
  {
   "cell_type": "code",
   "execution_count": null,
   "id": "2246005c",
   "metadata": {},
   "outputs": [],
   "source": [
    "# Building the model\n",
    "frq_items = apriori(basket_France, min_support = 0.05, use_colnames = True)\n",
    "\n",
    "# Collecting the inferred rules in a dataframe\n",
    "rules = association_rules(frq_items, metric =\"lift\", min_threshold = 1)\n",
    "rules = rules.sort_values(['confidence', 'lift'], ascending =[False, False])\n",
    "rules.head(50)\n"
   ]
  },
  {
   "cell_type": "code",
   "execution_count": null,
   "id": "f42c9d10",
   "metadata": {},
   "outputs": [],
   "source": []
  },
  {
   "cell_type": "code",
   "execution_count": null,
   "id": "d15c76d7",
   "metadata": {},
   "outputs": [],
   "source": []
  },
  {
   "cell_type": "code",
   "execution_count": null,
   "id": "4f739318",
   "metadata": {},
   "outputs": [],
   "source": []
  },
  {
   "cell_type": "code",
   "execution_count": null,
   "id": "adf65128",
   "metadata": {},
   "outputs": [],
   "source": []
  },
  {
   "cell_type": "code",
   "execution_count": null,
   "id": "e9e38e46",
   "metadata": {},
   "outputs": [],
   "source": []
  }
 ],
 "metadata": {
  "kernelspec": {
   "display_name": "Python 3 (ipykernel)",
   "language": "python",
   "name": "python3"
  },
  "language_info": {
   "codemirror_mode": {
    "name": "ipython",
    "version": 3
   },
   "file_extension": ".py",
   "mimetype": "text/x-python",
   "name": "python",
   "nbconvert_exporter": "python",
   "pygments_lexer": "ipython3",
   "version": "3.9.2"
  }
 },
 "nbformat": 4,
 "nbformat_minor": 5
}
